{
 "cells": [
  {
   "cell_type": "code",
   "execution_count": 71,
   "metadata": {},
   "outputs": [],
   "source": [
    "import numpy as np\n",
    "import matplotlib.pylab as plt\n",
    "import scipy.sparse as sparse\n",
    "from scipy.stats import truncnorm \n",
    "import pickle\n",
    "import pandas as pd"
   ]
  },
  {
   "cell_type": "code",
   "execution_count": 72,
   "metadata": {},
   "outputs": [],
   "source": [
    "m = 58415 # hyperedge = product = 58415\n",
    "n = 849185 # node = basket = 849185"
   ]
  },
  {
   "cell_type": "code",
   "execution_count": 73,
   "metadata": {},
   "outputs": [],
   "source": [
    "labels = [506] * n"
   ]
  },
  {
   "cell_type": "code",
   "execution_count": 74,
   "metadata": {},
   "outputs": [],
   "source": [
    "f = open(\"task2_basket_data.txt\", \"r\")\n",
    "lines = f.readlines()\n",
    "\n",
    "total_orders = set()\n",
    "for line in lines:\n",
    "    order, ret = line.rstrip().split('\\t')\n",
    "    total_orders.add(int(order))\n",
    "    labels[int(order)] = int(ret)\n",
    "\n",
    "f.close()\n",
    "assert len(total_orders) == len(lines)"
   ]
  },
  {
   "cell_type": "code",
   "execution_count": 75,
   "metadata": {},
   "outputs": [
    {
     "name": "stdout",
     "output_type": "stream",
     "text": [
      "123058 / 656310\n"
     ]
    }
   ],
   "source": [
    "valid_nums = int(len(lines) * 15/80)\n",
    "\n",
    "print(f\"{valid_nums} / {len(lines)}\")"
   ]
  },
  {
   "cell_type": "code",
   "execution_count": 76,
   "metadata": {},
   "outputs": [
    {
     "data": {
      "text/plain": [
       "256826"
      ]
     },
     "execution_count": 76,
     "metadata": {},
     "output_type": "execute_result"
    }
   ],
   "source": [
    "f = open(\"task2_valid_label.txt\", \"r\")\n",
    "lines = f.readlines()\n",
    "\n",
    "valid_order_set = set()\n",
    "\n",
    "for line in lines:\n",
    "    order, product, ret = line.rstrip().split('\\t')\n",
    "    valid_order_set.add(int(order))\n",
    "f.close()\n",
    "\n",
    "valid_orders = total_orders.intersection(valid_order_set)\n",
    "len(valid_orders)"
   ]
  },
  {
   "cell_type": "code",
   "execution_count": 77,
   "metadata": {},
   "outputs": [
    {
     "data": {
      "text/plain": [
       "123058"
      ]
     },
     "execution_count": 77,
     "metadata": {},
     "output_type": "execute_result"
    }
   ],
   "source": [
    "import random\n",
    "\n",
    "\n",
    "random.seed(0)\n",
    "valid_order_no = random.sample(list(valid_orders), valid_nums)\n",
    "\n",
    "len(valid_order_no)"
   ]
  },
  {
   "cell_type": "code",
   "execution_count": 78,
   "metadata": {},
   "outputs": [
    {
     "data": {
      "text/plain": [
       "533252"
      ]
     },
     "execution_count": 78,
     "metadata": {},
     "output_type": "execute_result"
    }
   ],
   "source": [
    "train_order_no = list(total_orders - set(valid_order_no))\n",
    "len(train_order_no)"
   ]
  },
  {
   "cell_type": "code",
   "execution_count": null,
   "metadata": {},
   "outputs": [],
   "source": []
  },
  {
   "cell_type": "code",
   "execution_count": 79,
   "metadata": {},
   "outputs": [],
   "source": [
    "test_order_no = []\n",
    "with open(\"task2_basket_test_query.txt\", \"r\") as f:\n",
    "    while True:\n",
    "        line = f.readline()\n",
    "        if not line: # 파일 읽기가 종료된 경우\n",
    "            break\n",
    "        order = line.strip()\n",
    "        test_order_no.append(int(order))\n",
    "        labels[int(order)] = 0"
   ]
  },
  {
   "cell_type": "code",
   "execution_count": 81,
   "metadata": {},
   "outputs": [],
   "source": [
    "# We split the dataset into a training set (594,430 orders),\n",
    "# a  validation set (127,377 orders), \n",
    "# and a test set (127,378 orders), following a 70/15/15 distr\n",
    "\n",
    "\n",
    "# assert len(train_order_no) == 594430\n",
    "# assert len(valid_order_no) == 127377\n",
    "# assert len(test_order_no) == 127378\n",
    "# assert sum(np.array(labels) == -1) == 127378\n",
    "assert sum(np.array(labels) == 506) == 0\n",
    "assert len(train_order_no) + len(valid_order_no) + len(test_order_no) == n"
   ]
  },
  {
   "cell_type": "code",
   "execution_count": 82,
   "metadata": {},
   "outputs": [],
   "source": [
    "with open(\"etail/ours2/labels.pickle\", 'wb') as f:\n",
    "    pickle.dump(labels, f)\n",
    "\n",
    "\n",
    "with open(\"etail/ours2/train_labels.pickle\", 'wb') as f:\n",
    "    pickle.dump(train_order_no, f)\n",
    "\n",
    "with open(\"etail/ours2/valid_labels.pickle\", 'wb') as f:\n",
    "    pickle.dump(valid_order_no, f)\n",
    "\n",
    "with open(\"etail/ours2/test_labels.pickle\", 'wb') as f:\n",
    "    pickle.dump(test_order_no, f)"
   ]
  },
  {
   "cell_type": "code",
   "execution_count": null,
   "metadata": {},
   "outputs": [],
   "source": []
  },
  {
   "cell_type": "code",
   "execution_count": 83,
   "metadata": {},
   "outputs": [],
   "source": [
    "from collections import defaultdict\n",
    "\n",
    "hypergraph = defaultdict(list)\n",
    "\n",
    "with open(\"../data/task2_data.txt\", \"r\") as f:\n",
    "    f.readline()\n",
    "    while True:\n",
    "        line = f.readline()\n",
    "        if not line: # 파일 읽기가 종료된 경우\n",
    "            break\n",
    "        order, product, customer, color, size, group = line.strip().split(',')\n",
    "        hypergraph[int(product)].append(int(order))\n"
   ]
  },
  {
   "cell_type": "code",
   "execution_count": 84,
   "metadata": {},
   "outputs": [],
   "source": [
    "assert len(set(hypergraph.keys())) == m"
   ]
  },
  {
   "cell_type": "code",
   "execution_count": 85,
   "metadata": {},
   "outputs": [],
   "source": [
    "with open(\"etail/ours2/hypergraph.pickle\", 'wb') as f:\n",
    "    pickle.dump(hypergraph, f)"
   ]
  },
  {
   "cell_type": "code",
   "execution_count": null,
   "metadata": {},
   "outputs": [],
   "source": []
  }
 ],
 "metadata": {
  "kernelspec": {
   "display_name": "dm",
   "language": "python",
   "name": "python3"
  },
  "language_info": {
   "codemirror_mode": {
    "name": "ipython",
    "version": 3
   },
   "file_extension": ".py",
   "mimetype": "text/x-python",
   "name": "python",
   "nbconvert_exporter": "python",
   "pygments_lexer": "ipython3",
   "version": "3.9.18"
  }
 },
 "nbformat": 4,
 "nbformat_minor": 2
}
