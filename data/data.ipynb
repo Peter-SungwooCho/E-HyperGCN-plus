{
 "cells": [
  {
   "cell_type": "code",
   "execution_count": 1,
   "metadata": {},
   "outputs": [],
   "source": [
    "import numpy as np\n",
    "import matplotlib.pylab as plt\n",
    "import scipy.sparse as sparse\n",
    "from scipy.stats import truncnorm \n",
    "import pickle\n",
    "import pandas as pd"
   ]
  },
  {
   "cell_type": "code",
   "execution_count": 2,
   "metadata": {},
   "outputs": [],
   "source": [
    "m = 58415 # hyperedge = product = 58415\n",
    "n = 849185 # node = basket = 849185"
   ]
  },
  {
   "cell_type": "code",
   "execution_count": 3,
   "metadata": {},
   "outputs": [],
   "source": [
    "labels = [506] * n"
   ]
  },
  {
   "cell_type": "code",
   "execution_count": 4,
   "metadata": {},
   "outputs": [],
   "source": [
    "train_order_no = []\n",
    "with open(\"task1_train_label.txt\", \"r\") as f:\n",
    "    while True:\n",
    "        line = f.readline()\n",
    "        if not line: # 파일 읽기가 종료된 경우\n",
    "            break\n",
    "        order, return_label = line.strip().split('\\t')\n",
    "        train_order_no.append(int(order))\n",
    "        labels[int(order)] = int(return_label)"
   ]
  },
  {
   "cell_type": "code",
   "execution_count": 5,
   "metadata": {},
   "outputs": [],
   "source": [
    "valid_order_no = []\n",
    "with open(\"task1_valid_label.txt\", \"r\") as f:\n",
    "    while True:\n",
    "        line = f.readline()\n",
    "        if not line: # 파일 읽기가 종료된 경우\n",
    "            break\n",
    "        order, return_label = line.strip().split('\\t')\n",
    "        valid_order_no.append(int(order))\n",
    "        labels[int(order)] = int(return_label)"
   ]
  },
  {
   "cell_type": "code",
   "execution_count": 6,
   "metadata": {},
   "outputs": [],
   "source": [
    "test_order_no = []\n",
    "with open(\"task1_test_query.txt\", \"r\") as f:\n",
    "    while True:\n",
    "        line = f.readline()\n",
    "        if not line: # 파일 읽기가 종료된 경우\n",
    "            break\n",
    "        order = line.strip()\n",
    "        test_order_no.append(int(order))\n",
    "        labels[int(order)] = -1"
   ]
  },
  {
   "cell_type": "code",
   "execution_count": 7,
   "metadata": {},
   "outputs": [],
   "source": [
    "# We split the dataset into a training set (594,430 orders),\n",
    "# a  validation set (127,377 orders), \n",
    "# and a test set (127,378 orders), following a 70/15/15 distr\n",
    "\n",
    "\n",
    "assert len(train_order_no) == 594430\n",
    "assert len(valid_order_no) == 127377\n",
    "assert len(test_order_no) == 127378\n",
    "assert sum(np.array(labels) == -1) == 127378\n",
    "assert sum(np.array(labels) == 506) == 0\n",
    "assert len(train_order_no) + len(valid_order_no) + len(test_order_no) == n"
   ]
  },
  {
   "cell_type": "code",
   "execution_count": 8,
   "metadata": {},
   "outputs": [],
   "source": [
    "with open(\"etail/ours/labels.pickle\", 'wb') as f:\n",
    "    pickle.dump(labels, f)\n",
    "\n",
    "\n",
    "with open(\"etail/ours/train_labels.pickle\", 'wb') as f:\n",
    "    pickle.dump(train_order_no, f)\n",
    "\n",
    "with open(\"etail/ours/valid_labels.pickle\", 'wb') as f:\n",
    "    pickle.dump(valid_order_no, f)\n",
    "\n",
    "with open(\"etail/ours/test_labels.pickle\", 'wb') as f:\n",
    "    pickle.dump(test_order_no, f)"
   ]
  },
  {
   "cell_type": "code",
   "execution_count": null,
   "metadata": {},
   "outputs": [],
   "source": []
  },
  {
   "cell_type": "code",
   "execution_count": 9,
   "metadata": {},
   "outputs": [],
   "source": [
    "from collections import defaultdict\n",
    "\n",
    "hypergraph = defaultdict(list)\n",
    "\n",
    "with open(\"../data/task1_data.txt\", \"r\") as f:\n",
    "    f.readline()\n",
    "    while True:\n",
    "        line = f.readline()\n",
    "        if not line: # 파일 읽기가 종료된 경우\n",
    "            break\n",
    "        order, product, customer, color, size, group = line.strip().split(',')\n",
    "        hypergraph[int(product)].append(int(order))\n"
   ]
  },
  {
   "cell_type": "code",
   "execution_count": 10,
   "metadata": {},
   "outputs": [],
   "source": [
    "assert len(set(hypergraph.keys())) == m"
   ]
  },
  {
   "cell_type": "code",
   "execution_count": 11,
   "metadata": {},
   "outputs": [],
   "source": [
    "with open(\"etail/ours/hypergraph.pickle\", 'wb') as f:\n",
    "    pickle.dump(hypergraph, f)"
   ]
  },
  {
   "cell_type": "code",
   "execution_count": null,
   "metadata": {},
   "outputs": [],
   "source": []
  },
  {
   "cell_type": "code",
   "execution_count": 22,
   "metadata": {},
   "outputs": [
    {
     "name": "stdout",
     "output_type": "stream",
     "text": [
      "1406\n"
     ]
    }
   ],
   "source": [
    "from gensim.models import Word2Vec\n",
    "\n",
    "df = pd.read_csv(\"task1_data.txt\")\n",
    "\n",
    "# 사용자별 아이템 시퀀스 생성\n",
    "product_sequences = df.groupby('customer')['product'].apply(list).tolist()\n",
    "max_len = max([len(seq) for seq in product_sequences])\n",
    "print(max_len)\n",
    "\n",
    "# Word2Vec 모델 학습\n",
    "model = Word2Vec(sentences=product_sequences, vector_size=50, window=max_len, min_count=1, workers=32)\n",
    "\n",
    "\n",
    "keys = [i for i in range(len(model.wv.index_to_key))]\n",
    "vectors = model.wv[keys]\n",
    "\n",
    "import scipy.sparse as sp\n",
    "matrix = sp.csr_matrix(vectors)"
   ]
  },
  {
   "cell_type": "code",
   "execution_count": 23,
   "metadata": {},
   "outputs": [],
   "source": [
    "assert matrix.shape[0] == m"
   ]
  },
  {
   "cell_type": "code",
   "execution_count": 24,
   "metadata": {},
   "outputs": [],
   "source": [
    "with open(\"etail/ours/features.pickle\", 'wb') as f:\n",
    "    pickle.dump(matrix, f)"
   ]
  },
  {
   "cell_type": "code",
   "execution_count": null,
   "metadata": {},
   "outputs": [],
   "source": []
  },
  {
   "cell_type": "code",
   "execution_count": null,
   "metadata": {},
   "outputs": [],
   "source": []
  }
 ],
 "metadata": {
  "kernelspec": {
   "display_name": "dm",
   "language": "python",
   "name": "python3"
  },
  "language_info": {
   "codemirror_mode": {
    "name": "ipython",
    "version": 3
   },
   "file_extension": ".py",
   "mimetype": "text/x-python",
   "name": "python",
   "nbconvert_exporter": "python",
   "pygments_lexer": "ipython3",
   "version": "3.9.18"
  }
 },
 "nbformat": 4,
 "nbformat_minor": 2
}
