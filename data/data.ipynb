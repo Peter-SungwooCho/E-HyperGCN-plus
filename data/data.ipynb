{
 "cells": [
  {
   "cell_type": "code",
   "execution_count": 1,
   "metadata": {},
   "outputs": [],
   "source": [
    "import numpy as np\n",
    "import matplotlib.pylab as plt\n",
    "import scipy.sparse as sparse\n",
    "from scipy.stats import truncnorm \n",
    "import pickle\n",
    "import pandas as pd"
   ]
  },
  {
   "cell_type": "code",
   "execution_count": 2,
   "metadata": {},
   "outputs": [],
   "source": [
    "m = 58415 # hyperedge = product = 58415\n",
    "n = 849185 # node = basket = 849185"
   ]
  },
  {
   "cell_type": "code",
   "execution_count": 3,
   "metadata": {},
   "outputs": [],
   "source": [
    "labels = [506] * n"
   ]
  },
  {
   "cell_type": "code",
   "execution_count": 4,
   "metadata": {},
   "outputs": [],
   "source": [
    "train_order_no = []\n",
    "with open(\"task1_train_label.txt\", \"r\") as f:\n",
    "    while True:\n",
    "        line = f.readline()\n",
    "        if not line: # 파일 읽기가 종료된 경우\n",
    "            break\n",
    "        order, return_label = line.strip().split('\\t')\n",
    "        train_order_no.append(int(order))\n",
    "        labels[int(order)] = int(return_label)"
   ]
  },
  {
   "cell_type": "code",
   "execution_count": 5,
   "metadata": {},
   "outputs": [],
   "source": [
    "valid_order_no = []\n",
    "with open(\"task1_valid_label.txt\", \"r\") as f:\n",
    "    while True:\n",
    "        line = f.readline()\n",
    "        if not line: # 파일 읽기가 종료된 경우\n",
    "            break\n",
    "        order, return_label = line.strip().split('\\t')\n",
    "        valid_order_no.append(int(order))\n",
    "        labels[int(order)] = int(return_label)"
   ]
  },
  {
   "cell_type": "code",
   "execution_count": 6,
   "metadata": {},
   "outputs": [],
   "source": [
    "test_order_no = []\n",
    "with open(\"task1_test_query.txt\", \"r\") as f:\n",
    "    while True:\n",
    "        line = f.readline()\n",
    "        if not line: # 파일 읽기가 종료된 경우\n",
    "            break\n",
    "        order = line.strip()\n",
    "        test_order_no.append(int(order))\n",
    "        labels[int(order)] = -1"
   ]
  },
  {
   "cell_type": "code",
   "execution_count": 7,
   "metadata": {},
   "outputs": [],
   "source": [
    "# We split the dataset into a training set (594,430 orders),\n",
    "# a  validation set (127,377 orders), \n",
    "# and a test set (127,378 orders), following a 70/15/15 distr\n",
    "\n",
    "\n",
    "assert len(train_order_no) == 594430\n",
    "assert len(valid_order_no) == 127377\n",
    "assert len(test_order_no) == 127378\n",
    "assert sum(np.array(labels) == -1) == 127378\n",
    "assert sum(np.array(labels) == 506) == 0\n",
    "assert len(train_order_no) + len(valid_order_no) + len(test_order_no) == n"
   ]
  },
  {
   "cell_type": "code",
   "execution_count": 8,
   "metadata": {},
   "outputs": [],
   "source": [
    "with open(\"etail/ours/labels.pickle\", 'wb') as f:\n",
    "    pickle.dump(labels, f)\n",
    "\n",
    "\n",
    "with open(\"etail/ours/train_labels.pickle\", 'wb') as f:\n",
    "    pickle.dump(train_order_no, f)\n",
    "\n",
    "with open(\"etail/ours/valid_labels.pickle\", 'wb') as f:\n",
    "    pickle.dump(valid_order_no, f)\n",
    "\n",
    "with open(\"etail/ours/test_labels.pickle\", 'wb') as f:\n",
    "    pickle.dump(test_order_no, f)"
   ]
  },
  {
   "cell_type": "code",
   "execution_count": null,
   "metadata": {},
   "outputs": [],
   "source": []
  },
  {
   "cell_type": "code",
   "execution_count": 9,
   "metadata": {},
   "outputs": [],
   "source": [
    "from collections import defaultdict\n",
    "\n",
    "hypergraph = defaultdict(list)\n",
    "\n",
    "with open(\"../data/task1_data.txt\", \"r\") as f:\n",
    "    f.readline()\n",
    "    while True:\n",
    "        line = f.readline()\n",
    "        if not line: # 파일 읽기가 종료된 경우\n",
    "            break\n",
    "        order, product, customer, color, size, group = line.strip().split(',')\n",
    "        hypergraph[int(product)].append(int(order))\n"
   ]
  },
  {
   "cell_type": "code",
   "execution_count": 10,
   "metadata": {},
   "outputs": [],
   "source": [
    "assert len(set(hypergraph.keys())) == m"
   ]
  },
  {
   "cell_type": "code",
   "execution_count": 11,
   "metadata": {},
   "outputs": [],
   "source": [
    "with open(\"etail/ours/hypergraph.pickle\", 'wb') as f:\n",
    "    pickle.dump(hypergraph, f)"
   ]
  },
  {
   "cell_type": "code",
   "execution_count": null,
   "metadata": {},
   "outputs": [],
   "source": []
  },
  {
   "cell_type": "markdown",
   "metadata": {},
   "source": [
    "## Word2Vec"
   ]
  },
  {
   "cell_type": "code",
   "execution_count": 12,
   "metadata": {},
   "outputs": [
    {
     "name": "stdout",
     "output_type": "stream",
     "text": [
      "46\n"
     ]
    }
   ],
   "source": [
    "from gensim.models import Word2Vec\n",
    "\n",
    "df = pd.read_csv(\"task1_data.txt\")\n"
   ]
  },
  {
   "cell_type": "code",
   "execution_count": 41,
   "metadata": {},
   "outputs": [
    {
     "name": "stdout",
     "output_type": "stream",
     "text": [
      "990182\n"
     ]
    }
   ],
   "source": [
    "# 사용자별 아이템 시퀀스 생성\n",
    "customer_sequences = df.groupby('customer')['order'].apply(list).tolist()\n",
    "max_len = max([len(seq) for seq in group_sequences])\n",
    "print(max_len)\n",
    "\n",
    "# Word2Vec 모델 학습\n",
    "model = Word2Vec(sentences=customer_sequences, vector_size=100, window=max_len, min_count=1, workers=32)\n",
    "\n",
    "\n",
    "keys = [i for i in range(len(model.wv.index_to_key))]\n",
    "customer = model.wv[keys]\n",
    "\n"
   ]
  },
  {
   "cell_type": "code",
   "execution_count": 42,
   "metadata": {},
   "outputs": [
    {
     "name": "stdout",
     "output_type": "stream",
     "text": [
      "990182\n"
     ]
    }
   ],
   "source": [
    "# 사용자별 아이템 시퀀스 생성\n",
    "size_sequences = df.groupby('size')['order'].apply(list).tolist()\n",
    "max_len = max([len(seq) for seq in group_sequences])\n",
    "print(max_len)\n",
    "\n",
    "# Word2Vec 모델 학습\n",
    "model = Word2Vec(sentences=size_sequences, vector_size=10, window=max_len, min_count=1, workers=32)\n",
    "\n",
    "\n",
    "keys = [i for i in range(len(model.wv.index_to_key))]\n",
    "size = model.wv[keys]\n",
    "\n"
   ]
  },
  {
   "cell_type": "code",
   "execution_count": 43,
   "metadata": {},
   "outputs": [
    {
     "name": "stdout",
     "output_type": "stream",
     "text": [
      "990182\n"
     ]
    }
   ],
   "source": [
    "# 사용자별 아이템 시퀀스 생성\n",
    "color_sequences = df.groupby('color')['order'].apply(list).tolist()\n",
    "max_len = max([len(seq) for seq in group_sequences])\n",
    "print(max_len)\n",
    "\n",
    "# Word2Vec 모델 학습\n",
    "model = Word2Vec(sentences=color_sequences, vector_size=5, window=max_len, min_count=1, workers=32)\n",
    "\n",
    "\n",
    "keys = [i for i in range(len(model.wv.index_to_key))]\n",
    "color = model.wv[keys]\n",
    "\n"
   ]
  },
  {
   "cell_type": "code",
   "execution_count": 44,
   "metadata": {},
   "outputs": [
    {
     "name": "stdout",
     "output_type": "stream",
     "text": [
      "990182\n"
     ]
    }
   ],
   "source": [
    "# 사용자별 아이템 시퀀스 생성\n",
    "group_sequences = df.groupby('group')['order'].apply(list).tolist()\n",
    "max_len = max([len(seq) for seq in group_sequences])\n",
    "print(max_len)\n",
    "\n",
    "# Word2Vec 모델 학습\n",
    "model = Word2Vec(sentences=group_sequences, vector_size=5, window=max_len, min_count=1, workers=32)\n",
    "\n",
    "\n",
    "keys = [i for i in range(len(model.wv.index_to_key))]\n",
    "group = model.wv[keys]\n"
   ]
  },
  {
   "cell_type": "code",
   "execution_count": 45,
   "metadata": {},
   "outputs": [
    {
     "data": {
      "text/plain": [
       "(849185, 100)"
      ]
     },
     "execution_count": 45,
     "metadata": {},
     "output_type": "execute_result"
    }
   ],
   "source": [
    "customer.shape"
   ]
  },
  {
   "cell_type": "code",
   "execution_count": 46,
   "metadata": {},
   "outputs": [
    {
     "data": {
      "text/plain": [
       "(849185, 5)"
      ]
     },
     "execution_count": 46,
     "metadata": {},
     "output_type": "execute_result"
    }
   ],
   "source": [
    "color.shape"
   ]
  },
  {
   "cell_type": "code",
   "execution_count": 47,
   "metadata": {},
   "outputs": [
    {
     "data": {
      "text/plain": [
       "(849185, 10)"
      ]
     },
     "execution_count": 47,
     "metadata": {},
     "output_type": "execute_result"
    }
   ],
   "source": [
    "size.shape"
   ]
  },
  {
   "cell_type": "code",
   "execution_count": 48,
   "metadata": {},
   "outputs": [
    {
     "data": {
      "text/plain": [
       "(849185, 5)"
      ]
     },
     "execution_count": 48,
     "metadata": {},
     "output_type": "execute_result"
    }
   ],
   "source": [
    "group.shape"
   ]
  },
  {
   "cell_type": "code",
   "execution_count": 49,
   "metadata": {},
   "outputs": [
    {
     "data": {
      "text/plain": [
       "array([[-1.14742024e-02,  1.91101935e-02,  1.66486930e-02, ...,\n",
       "         1.49638295e-01, -1.63311526e-01, -4.93147597e-02],\n",
       "       [-7.76894167e-02,  3.59250680e-02,  2.70011816e-02, ...,\n",
       "         1.76088214e-01,  2.45786663e-02, -4.50493097e-02],\n",
       "       [-1.02264853e-02,  6.69997046e-03, -7.11473776e-03, ...,\n",
       "        -1.51098017e-02,  1.64623708e-01, -8.53410959e-02],\n",
       "       ...,\n",
       "       [-6.59545069e-04, -3.89122358e-03, -4.09440510e-03, ...,\n",
       "         7.41773844e-02,  1.47439331e-01,  4.58339229e-02],\n",
       "       [ 3.79193458e-03,  1.44837098e-03,  5.46176034e-06, ...,\n",
       "        -1.48334309e-01, -2.43333820e-02,  1.70539737e-01],\n",
       "       [ 8.32270086e-03, -1.91192201e-03,  2.80565117e-03, ...,\n",
       "         1.42676204e-01,  1.97445303e-01, -1.18886925e-01]], dtype=float32)"
      ]
     },
     "execution_count": 49,
     "metadata": {},
     "output_type": "execute_result"
    }
   ],
   "source": [
    "np.hstack([customer, color, size, group])"
   ]
  },
  {
   "cell_type": "code",
   "execution_count": 50,
   "metadata": {},
   "outputs": [],
   "source": [
    "import scipy.sparse as sp\n",
    "matrix = sp.csr_matrix(np.hstack([customer, color, size, group]))"
   ]
  },
  {
   "cell_type": "code",
   "execution_count": 51,
   "metadata": {},
   "outputs": [],
   "source": [
    "with open(\"etail/ours/w2v_concat.pickle\", 'wb') as f:\n",
    "    pickle.dump(matrix, f)"
   ]
  },
  {
   "cell_type": "code",
   "execution_count": 52,
   "metadata": {},
   "outputs": [
    {
     "data": {
      "text/plain": [
       "(849185, 120)"
      ]
     },
     "execution_count": 52,
     "metadata": {},
     "output_type": "execute_result"
    }
   ],
   "source": [
    "matrix.shape"
   ]
  },
  {
   "cell_type": "code",
   "execution_count": null,
   "metadata": {},
   "outputs": [],
   "source": []
  }
 ],
 "metadata": {
  "kernelspec": {
   "display_name": "dm",
   "language": "python",
   "name": "python3"
  },
  "language_info": {
   "codemirror_mode": {
    "name": "ipython",
    "version": 3
   },
   "file_extension": ".py",
   "mimetype": "text/x-python",
   "name": "python",
   "nbconvert_exporter": "python",
   "pygments_lexer": "ipython3",
   "version": "3.9.18"
  }
 },
 "nbformat": 4,
 "nbformat_minor": 2
}
